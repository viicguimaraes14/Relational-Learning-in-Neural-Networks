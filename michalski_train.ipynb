{
  "nbformat": 4,
  "nbformat_minor": 0,
  "metadata": {
    "colab": {
      "provenance": [],
      "mount_file_id": "1HEAocdXd73RjOC7Neu9Uh5RUNg5MjCdw",
      "authorship_tag": "ABX9TyOd2lnC0BFoXvFJAHIhcnLb"
    },
    "kernelspec": {
      "name": "python3",
      "display_name": "Python 3"
    },
    "language_info": {
      "name": "python"
    }
  },
  "cells": [
    {
      "cell_type": "code",
      "source": [
        "!pip install keras-rectified-adam"
      ],
      "metadata": {
        "colab": {
          "base_uri": "https://localhost:8080/"
        },
        "id": "iw-PqGA-YvOF",
        "outputId": "48487455-9286-46e7-d442-401fd5093af1"
      },
      "execution_count": 1,
      "outputs": [
        {
          "output_type": "stream",
          "name": "stdout",
          "text": [
            "Looking in indexes: https://pypi.org/simple, https://us-python.pkg.dev/colab-wheels/public/simple/\n",
            "Collecting keras-rectified-adam\n",
            "  Downloading keras-rectified-adam-0.20.0.tar.gz (7.0 kB)\n",
            "  Preparing metadata (setup.py) ... \u001b[?25l\u001b[?25hdone\n",
            "Requirement already satisfied: numpy in /usr/local/lib/python3.8/dist-packages (from keras-rectified-adam) (1.22.4)\n",
            "Requirement already satisfied: Keras in /usr/local/lib/python3.8/dist-packages (from keras-rectified-adam) (2.11.0)\n",
            "Building wheels for collected packages: keras-rectified-adam\n",
            "  Building wheel for keras-rectified-adam (setup.py) ... \u001b[?25l\u001b[?25hdone\n",
            "  Created wheel for keras-rectified-adam: filename=keras_rectified_adam-0.20.0-py3-none-any.whl size=8271 sha256=ce47227a6f0e4e72ed8f29ba5e68d21160cb310d1dae4fdb74cf7fe4803d40a8\n",
            "  Stored in directory: /root/.cache/pip/wheels/5d/0c/92/c76f52204fb345e4495a09929ffa813a0d790e971f6064a6c9\n",
            "Successfully built keras-rectified-adam\n",
            "Installing collected packages: keras-rectified-adam\n",
            "Successfully installed keras-rectified-adam-0.20.0\n"
          ]
        }
      ]
    },
    {
      "cell_type": "code",
      "source": [
        "from keras_radam import RAdam"
      ],
      "metadata": {
        "id": "l0CD9gscY8pp"
      },
      "execution_count": 2,
      "outputs": []
    },
    {
      "cell_type": "code",
      "execution_count": 3,
      "metadata": {
        "id": "f4uGHZ9YYhCq"
      },
      "outputs": [],
      "source": [
        "import keras\n",
        "import tqdm\n",
        "from sklearn.model_selection import LeaveOneOut, KFold\n",
        "from pydotplus import graphviz\n",
        "from keras.utils.vis_utils import plot_model\n",
        "from keras.utils.vis_utils import model_to_dot\n",
        "import tensorflow as tf\n",
        "from keras.utils import to_categorical\n",
        "import numpy as np\n",
        "import matplotlib.pyplot as plt\n",
        "from scipy import signal\n",
        "%matplotlib inline\n",
        "from keras import models\n",
        "from keras.models import Sequential, Model\n",
        "from keras.losses import binary_crossentropy\n",
        "from keras.utils  import plot_model\n",
        "from keras import layers\n",
        "from keras.layers import Dense, Input, concatenate\n",
        "import pandas as pd\n",
        "from sklearn.model_selection import train_test_split\n",
        "import matplotlib.pyplot as plt\n",
        "import warnings\n",
        "warnings.filterwarnings('ignore')"
      ]
    },
    {
      "cell_type": "code",
      "source": [
        "seed_value= 0"
      ],
      "metadata": {
        "id": "KyJahYGFcayp"
      },
      "execution_count": 5,
      "outputs": []
    },
    {
      "cell_type": "code",
      "source": [
        "# 1. Set `PYTHONHASHSEED` environment variable at a fixed value\n",
        "import os\n",
        "os.environ['PYTHONHASHSEED']=str(seed_value)\n",
        "\n",
        "# 2. Set `python` built-in pseudo-random generator at a fixed value\n",
        "import random\n",
        "random.seed(seed_value)\n",
        "\n",
        "# 3. Set `numpy` pseudo-random generator at a fixed value\n",
        "import numpy as np\n",
        "np.random.seed(seed_value)\n",
        "\n",
        "# 4. Set `tensorflow` pseudo-random generator at a fixed value\n",
        "import tensorflow as tf\n",
        "tf.compat.v1.set_random_seed(seed_value)\n",
        "\n",
        "# 5. Configure a new global `tensorflow` session\n",
        "from keras import backend as K\n",
        "session_conf = tf.compat.v1.ConfigProto(intra_op_parallelism_threads=1, inter_op_parallelism_threads=1)\n",
        "sess = tf.compat.v1.Session(graph=tf.compat.v1.get_default_graph(), config=session_conf)\n",
        "tf.compat.v1.keras.backend.set_session(sess)"
      ],
      "metadata": {
        "id": "yyoP25iNZBdb"
      },
      "execution_count": 6,
      "outputs": []
    },
    {
      "cell_type": "code",
      "source": [
        "df = pd.read_csv('/content/drive/MyDrive/Inteligencia Artificial  - Mestrado/trains-transformed.csv')"
      ],
      "metadata": {
        "id": "tdcDWyxUZG3f"
      },
      "execution_count": 7,
      "outputs": []
    },
    {
      "cell_type": "code",
      "source": [
        "#realizando as modificações da base \n",
        "str_att = {\n",
        "  'length': ['short', 'long'],\n",
        "  'shape': ['closedrect', 'dblopnrect', 'ellipse', 'engine', 'hexagon',\n",
        "          'jaggedtop', 'openrect', 'opentrap', 'slopetop', 'ushaped'],\n",
        "  'load_shape': ['circlelod', 'hexagonlod', 'rectanglod', 'trianglod'],\n",
        "  'Class_attribute': ['west','east']\n",
        "}\n",
        "\n",
        "def read_data(df):\n",
        "\n",
        "  for k in df:\n",
        "    for att in str_att:\n",
        "      if k.startswith(att):\n",
        "        for i,val in enumerate(df[k]):\n",
        "          if val in str_att[att]:\n",
        "            df[k][i] = str_att[att].index(val)\n",
        "\n",
        "  df.replace(\"\\0\", 0, inplace=True)\n",
        "  df.replace(\"None\", -1, inplace=True)\n",
        "\n",
        "  return df"
      ],
      "metadata": {
        "id": "Oqnj2MuRaS8Z"
      },
      "execution_count": 8,
      "outputs": []
    },
    {
      "cell_type": "code",
      "source": [
        "#base apos modificações\n",
        "df = read_data(df)"
      ],
      "metadata": {
        "id": "Io2E6H_waU-b"
      },
      "execution_count": 10,
      "outputs": []
    },
    {
      "cell_type": "markdown",
      "source": [
        "**Question 1.** Implement a solution based on the relational learning model\n",
        "containing meta-networks to connect premise concepts. This models must contain 11 networks, one for each of the following concepts as defined on pages\n",
        "136 and 137:"
      ],
      "metadata": {
        "id": "YUufpuANclw7"
      }
    },
    {
      "cell_type": "code",
      "source": [
        "def model_v2():\n",
        "  # features\n",
        "  t   = Input(shape=(1,), name='t')\n",
        "  c   = Input(shape=(1,), name='c') \n",
        "  w   = Input(shape=(1,), name='w')\n",
        "  l   = Input(shape=(1,), name='l')\n",
        "  s   = Input(shape=(1,), name='s')\n",
        "  nc  = Input(shape=(1,), name='nc')\n",
        "  ls  = Input(shape=(1,), name='ls')\n",
        "  nl  = Input(shape=(1,), name='nl')\n",
        "  ncl = Input(shape=(1,), name='ncl')\n",
        "  x_crc = Input(shape=(1,), name='x_crc')\n",
        "  x_hex = Input(shape=(1,), name='x_hex')\n",
        "  x_rec = Input(shape=(1,), name='x_rec')\n",
        "  x_tri = Input(shape=(1,), name='x_tri')\n",
        "\n",
        "  # num_cars(t,nc)\n",
        "  num_cars_ = concatenate([t,nc])\n",
        "  num_cars_ = Dense(20, activation='relu')(num_cars_)\n",
        "  num_cars = Dense(1, activation='sigmoid', name='num_cars')(num_cars_)\n",
        "  num_cars = Model(inputs=[t,nc], outputs=num_cars)\n",
        "\n",
        "  # num_loads(t,nl)\n",
        "  num_loads_ = concatenate([t,nl])\n",
        "  num_loads_ = Dense(20, activation='relu')(num_loads_)\n",
        "  num_loads = Dense(1, activation='sigmoid', name='num_loads')(num_loads_)\n",
        "  num_loads = Model(inputs=[t,nl], outputs=num_loads)\n",
        "\n",
        "  # num_wheels(t,c,w)\n",
        "  num_wheels_ = concatenate([t,c,w])\n",
        "  num_wheels_ = Dense(20, activation='relu')(num_wheels_)\n",
        "  num_wheels = Dense(1, activation='sigmoid', name='num_wheels')(num_wheels_)\n",
        "  num_wheels = Model(inputs=[t,c,w], outputs=num_wheels)\n",
        "\n",
        "  # length(t,c,l)\n",
        "  length_ = concatenate([t,c,l])\n",
        "  length_ = Dense(20, activation='relu')(length_)\n",
        "  length = Dense(1, activation='sigmoid', name='length')(length_)\n",
        "  length = Model(inputs=[t,c,l], outputs=length)\n",
        "\n",
        "  # shape(t,c,s)\n",
        "  shape_ = concatenate([t,c,s])\n",
        "  shape_ = Dense(20, activation='relu')(shape_)\n",
        "  shape = Dense(1, activation='sigmoid', name='shape')(shape_)\n",
        "  shape = Model(inputs=[t,c,s], outputs=shape)\n",
        "\n",
        "  # num_car_loads(t,c,ncl)\n",
        "  num_car_loads_ = concatenate([t,c,ncl])\n",
        "  num_car_loads_ = Dense(20, activation='relu')(num_car_loads_)\n",
        "  num_car_loads = Dense(1, activation='sigmoid', name='num_car_loads')(num_car_loads_)\n",
        "  num_car_loads = Model(inputs=[t,c,ncl], outputs=num_car_loads)\n",
        "\n",
        "  # load_shape(t,c,ls)\n",
        "  load_shape_ = concatenate([t,c,ls])\n",
        "  load_shape_ = Dense(20, activation='relu')(load_shape_)\n",
        "  load_shape = Dense(1, activation='sigmoid', name='load_shape')(load_shape_)\n",
        "  load_shape = Model(inputs=[t,c,ls], outputs=load_shape)\n",
        "\n",
        "  # next_crc(t,c,x)\n",
        "  next_crc_ = concatenate([t,c,x_crc])\n",
        "  next_crc_ = Dense(20, activation='relu')(next_crc_)\n",
        "  next_crc = Dense(1, activation='sigmoid', name='next_crc')(next_crc_)\n",
        "  next_crc = Model(inputs=[t,c,x_crc], outputs=next_crc)\n",
        "\n",
        "  # next_hex_(t,c,x)\n",
        "  next_hex_ = concatenate([t,c,x_hex])\n",
        "  next_hex_ = Dense(20, activation='relu')(next_hex_)\n",
        "  next_hex = Dense(1, activation='sigmoid', name='next_hex')(next_hex_)\n",
        "  next_hex = Model(inputs=[t,c,x_hex], outputs=next_hex)\n",
        "\n",
        "  # next_rec(t,c,x)\n",
        "  next_rec_ = concatenate([t,c,x_rec])\n",
        "  next_rec_ = Dense(20, activation='relu')(next_rec_)\n",
        "  next_rec = Dense(1, activation='sigmoid', name='next_rec')(next_rec_)\n",
        "  next_rec = Model(inputs=[t,c,x_rec], outputs=next_rec)\n",
        "\n",
        "  # next_tri(t,c,x)\n",
        "  next_tri_ = concatenate([t,c,x_tri])\n",
        "  next_tri_ = Dense(20, activation='relu')(next_tri_)\n",
        "  next_tri = Dense(1, activation='sigmoid', name='next_tri')(next_tri_)\n",
        "  next_tri = Model(inputs=[t,c,x_tri], outputs=next_tri)\n",
        "\n",
        "  # east\n",
        "  east = concatenate([\n",
        "    num_cars_, \n",
        "    num_loads_, \n",
        "    num_wheels_,\n",
        "    length_,\n",
        "    shape_,\n",
        "    num_car_loads_,\n",
        "    load_shape_,\n",
        "    next_crc_,\n",
        "    next_hex_,\n",
        "    next_rec_,\n",
        "    next_tri_\n",
        "  ])\n",
        "  east = Dense(3, activation='relu')(east)\n",
        "  east =  Dense(1, activation='sigmoid', name='east')(east)\n",
        "  east = Model(inputs=[t, c, w, l, s, nc, ls, nl, ncl, x_crc, x_hex, x_rec, x_tri], outputs=east)\n",
        "  \n",
        "  # metanet\n",
        "  metanet = Model(\n",
        "    inputs=east.inputs, \n",
        "    outputs=[\n",
        "      num_cars.output, \n",
        "      num_loads.output, \n",
        "      num_wheels.output,\n",
        "      length.output,\n",
        "      shape.output,\n",
        "      num_car_loads.output,\n",
        "      load_shape.output,\n",
        "      next_crc.output,\n",
        "      next_hex.output,\n",
        "      next_rec.output,\n",
        "      next_tri.output,\n",
        "      east.output\n",
        "  ])\n",
        "\n",
        "  # rules\n",
        "  rules = {\n",
        "    'num_cars': num_cars, \n",
        "    'num_loads': num_loads, \n",
        "    'num_wheels': num_wheels,\n",
        "    'length': length,\n",
        "    'shape': shape,\n",
        "    'num_car_loads': num_car_loads,\n",
        "    'load_shape': load_shape,\n",
        "    'next_crc': next_crc,\n",
        "    'next_hex': next_hex,\n",
        "    'next_rec': next_rec,\n",
        "    'next_tri': next_tri,\n",
        "  }\n",
        "\n",
        "  return metanet, east, rules\n",
        "\n",
        "metanet, east, rules = model_v2()"
      ],
      "metadata": {
        "id": "SYVpS5SGb9O5"
      },
      "execution_count": 11,
      "outputs": []
    },
    {
      "cell_type": "code",
      "source": [
        "metanet.summary()"
      ],
      "metadata": {
        "colab": {
          "base_uri": "https://localhost:8080/"
        },
        "id": "lhtAg92zb-8x",
        "outputId": "f21ebdfd-80ba-4b31-da64-3d2ceb4c22c9"
      },
      "execution_count": 12,
      "outputs": [
        {
          "output_type": "stream",
          "name": "stdout",
          "text": [
            "Model: \"model_12\"\n",
            "__________________________________________________________________________________________________\n",
            " Layer (type)                   Output Shape         Param #     Connected to                     \n",
            "==================================================================================================\n",
            " t (InputLayer)                 [(None, 1)]          0           []                               \n",
            "                                                                                                  \n",
            " nc (InputLayer)                [(None, 1)]          0           []                               \n",
            "                                                                                                  \n",
            " nl (InputLayer)                [(None, 1)]          0           []                               \n",
            "                                                                                                  \n",
            " c (InputLayer)                 [(None, 1)]          0           []                               \n",
            "                                                                                                  \n",
            " w (InputLayer)                 [(None, 1)]          0           []                               \n",
            "                                                                                                  \n",
            " l (InputLayer)                 [(None, 1)]          0           []                               \n",
            "                                                                                                  \n",
            " s (InputLayer)                 [(None, 1)]          0           []                               \n",
            "                                                                                                  \n",
            " ncl (InputLayer)               [(None, 1)]          0           []                               \n",
            "                                                                                                  \n",
            " ls (InputLayer)                [(None, 1)]          0           []                               \n",
            "                                                                                                  \n",
            " x_crc (InputLayer)             [(None, 1)]          0           []                               \n",
            "                                                                                                  \n",
            " x_hex (InputLayer)             [(None, 1)]          0           []                               \n",
            "                                                                                                  \n",
            " x_rec (InputLayer)             [(None, 1)]          0           []                               \n",
            "                                                                                                  \n",
            " x_tri (InputLayer)             [(None, 1)]          0           []                               \n",
            "                                                                                                  \n",
            " concatenate (Concatenate)      (None, 2)            0           ['t[0][0]',                      \n",
            "                                                                  'nc[0][0]']                     \n",
            "                                                                                                  \n",
            " concatenate_1 (Concatenate)    (None, 2)            0           ['t[0][0]',                      \n",
            "                                                                  'nl[0][0]']                     \n",
            "                                                                                                  \n",
            " concatenate_2 (Concatenate)    (None, 3)            0           ['t[0][0]',                      \n",
            "                                                                  'c[0][0]',                      \n",
            "                                                                  'w[0][0]']                      \n",
            "                                                                                                  \n",
            " concatenate_3 (Concatenate)    (None, 3)            0           ['t[0][0]',                      \n",
            "                                                                  'c[0][0]',                      \n",
            "                                                                  'l[0][0]']                      \n",
            "                                                                                                  \n",
            " concatenate_4 (Concatenate)    (None, 3)            0           ['t[0][0]',                      \n",
            "                                                                  'c[0][0]',                      \n",
            "                                                                  's[0][0]']                      \n",
            "                                                                                                  \n",
            " concatenate_5 (Concatenate)    (None, 3)            0           ['t[0][0]',                      \n",
            "                                                                  'c[0][0]',                      \n",
            "                                                                  'ncl[0][0]']                    \n",
            "                                                                                                  \n",
            " concatenate_6 (Concatenate)    (None, 3)            0           ['t[0][0]',                      \n",
            "                                                                  'c[0][0]',                      \n",
            "                                                                  'ls[0][0]']                     \n",
            "                                                                                                  \n",
            " concatenate_7 (Concatenate)    (None, 3)            0           ['t[0][0]',                      \n",
            "                                                                  'c[0][0]',                      \n",
            "                                                                  'x_crc[0][0]']                  \n",
            "                                                                                                  \n",
            " concatenate_8 (Concatenate)    (None, 3)            0           ['t[0][0]',                      \n",
            "                                                                  'c[0][0]',                      \n",
            "                                                                  'x_hex[0][0]']                  \n",
            "                                                                                                  \n",
            " concatenate_9 (Concatenate)    (None, 3)            0           ['t[0][0]',                      \n",
            "                                                                  'c[0][0]',                      \n",
            "                                                                  'x_rec[0][0]']                  \n",
            "                                                                                                  \n",
            " concatenate_10 (Concatenate)   (None, 3)            0           ['t[0][0]',                      \n",
            "                                                                  'c[0][0]',                      \n",
            "                                                                  'x_tri[0][0]']                  \n",
            "                                                                                                  \n",
            " dense (Dense)                  (None, 20)           60          ['concatenate[0][0]']            \n",
            "                                                                                                  \n",
            " dense_1 (Dense)                (None, 20)           60          ['concatenate_1[0][0]']          \n",
            "                                                                                                  \n",
            " dense_2 (Dense)                (None, 20)           80          ['concatenate_2[0][0]']          \n",
            "                                                                                                  \n",
            " dense_3 (Dense)                (None, 20)           80          ['concatenate_3[0][0]']          \n",
            "                                                                                                  \n",
            " dense_4 (Dense)                (None, 20)           80          ['concatenate_4[0][0]']          \n",
            "                                                                                                  \n",
            " dense_5 (Dense)                (None, 20)           80          ['concatenate_5[0][0]']          \n",
            "                                                                                                  \n",
            " dense_6 (Dense)                (None, 20)           80          ['concatenate_6[0][0]']          \n",
            "                                                                                                  \n",
            " dense_7 (Dense)                (None, 20)           80          ['concatenate_7[0][0]']          \n",
            "                                                                                                  \n",
            " dense_8 (Dense)                (None, 20)           80          ['concatenate_8[0][0]']          \n",
            "                                                                                                  \n",
            " dense_9 (Dense)                (None, 20)           80          ['concatenate_9[0][0]']          \n",
            "                                                                                                  \n",
            " dense_10 (Dense)               (None, 20)           80          ['concatenate_10[0][0]']         \n",
            "                                                                                                  \n",
            " concatenate_11 (Concatenate)   (None, 220)          0           ['dense[0][0]',                  \n",
            "                                                                  'dense_1[0][0]',                \n",
            "                                                                  'dense_2[0][0]',                \n",
            "                                                                  'dense_3[0][0]',                \n",
            "                                                                  'dense_4[0][0]',                \n",
            "                                                                  'dense_5[0][0]',                \n",
            "                                                                  'dense_6[0][0]',                \n",
            "                                                                  'dense_7[0][0]',                \n",
            "                                                                  'dense_8[0][0]',                \n",
            "                                                                  'dense_9[0][0]',                \n",
            "                                                                  'dense_10[0][0]']               \n",
            "                                                                                                  \n",
            " dense_11 (Dense)               (None, 3)            663         ['concatenate_11[0][0]']         \n",
            "                                                                                                  \n",
            " num_cars (Dense)               (None, 1)            21          ['dense[0][0]']                  \n",
            "                                                                                                  \n",
            " num_loads (Dense)              (None, 1)            21          ['dense_1[0][0]']                \n",
            "                                                                                                  \n",
            " num_wheels (Dense)             (None, 1)            21          ['dense_2[0][0]']                \n",
            "                                                                                                  \n",
            " length (Dense)                 (None, 1)            21          ['dense_3[0][0]']                \n",
            "                                                                                                  \n",
            " shape (Dense)                  (None, 1)            21          ['dense_4[0][0]']                \n",
            "                                                                                                  \n",
            " num_car_loads (Dense)          (None, 1)            21          ['dense_5[0][0]']                \n",
            "                                                                                                  \n",
            " load_shape (Dense)             (None, 1)            21          ['dense_6[0][0]']                \n",
            "                                                                                                  \n",
            " next_crc (Dense)               (None, 1)            21          ['dense_7[0][0]']                \n",
            "                                                                                                  \n",
            " next_hex (Dense)               (None, 1)            21          ['dense_8[0][0]']                \n",
            "                                                                                                  \n",
            " next_rec (Dense)               (None, 1)            21          ['dense_9[0][0]']                \n",
            "                                                                                                  \n",
            " next_tri (Dense)               (None, 1)            21          ['dense_10[0][0]']               \n",
            "                                                                                                  \n",
            " east (Dense)                   (None, 1)            4           ['dense_11[0][0]']               \n",
            "                                                                                                  \n",
            "==================================================================================================\n",
            "Total params: 1,738\n",
            "Trainable params: 1,738\n",
            "Non-trainable params: 0\n",
            "__________________________________________________________________________________________________\n"
          ]
        }
      ]
    },
    {
      "cell_type": "code",
      "source": [
        "# transform data\n",
        "df = read_data(df)\n",
        "cols = [[c for c in df.columns if not(str.isdigit(c[-1])) or (str.isdigit(c[-1]) and int(c[-1])==n)] for n in range(1,5)]\n",
        "\n",
        "data = [df[col] for col in cols]\n",
        "for c, df in enumerate(data):\n",
        "  df.columns = [name if not str.isdigit(name[-1]) else name[:-1] for name in df.columns]\n",
        "  df['car'] = c+1\n",
        "\n",
        "data = pd.concat(data)\n",
        "data.reset_index(level=0, inplace=True)\n",
        "data['train'] = data.pop('index')\n",
        "data.T[0]"
      ],
      "metadata": {
        "colab": {
          "base_uri": "https://localhost:8080/"
        },
        "id": "KoEPcRRdcQwk",
        "outputId": "837dc9b7-f37a-485c-e074-60cd5da3f96a"
      },
      "execution_count": 13,
      "outputs": [
        {
          "output_type": "execute_result",
          "data": {
            "text/plain": [
              "Number_of_cars                  5\n",
              "Number_of_different_loads       4\n",
              "num_wheels                      2\n",
              "length                          1\n",
              "shape                           6\n",
              "num_loads                       3\n",
              "load_shape                      2\n",
              "Rectangle_next_to_rectangle    \\0\n",
              "Rectangle_next_to_triangle      1\n",
              "Rectangle_next_to_hexagon       0\n",
              "Rectangle_next_to_circle        0\n",
              "Triangle_next_to_triangle       0\n",
              "Triangle_next_to_hexagon        1\n",
              "Triangle_next_to_circle         0\n",
              "Hexagon_next_to_hexagon         0\n",
              "Hexagon_next_to_circle          1\n",
              "Circle_next_to_circle           0\n",
              "Class_attribute                 1\n",
              "car                             1\n",
              "train                           0\n",
              "Name: 0, dtype: object"
            ]
          },
          "metadata": {},
          "execution_count": 13
        }
      ]
    },
    {
      "cell_type": "markdown",
      "source": [
        "**Question 2.** Extend your model to other types of cases as shown in Figure 2.,\n",
        "describing the new predicates as in the previous question and train your model\n",
        "as in the book example."
      ],
      "metadata": {
        "id": "P3ro8oNud-aX"
      }
    }
  ]
}